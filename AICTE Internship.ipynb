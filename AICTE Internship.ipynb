{
 "cells": [
  {
   "cell_type": "code",
   "execution_count": 4,
   "id": "3f0aed89",
   "metadata": {},
   "outputs": [
    {
     "name": "stdout",
     "output_type": "stream",
     "text": [
      "SUM:  35\n",
      "Difference:  32\n",
      "Product:  1050\n",
      "Division:  2.5\n"
     ]
    }
   ],
   "source": [
    "# Lab 1: Ex 2:  Python program that demonstrates the use of variables to perform basic arithmetic calculations:\n",
    "\n",
    "a=10\n",
    "b=25\n",
    "c=42\n",
    "\n",
    "sum=a+b\n",
    "diff=c-a\n",
    "product=b*c\n",
    "quot=b/a\n",
    "\n",
    "print(\"SUM: \",sum)\n",
    "print(\"Difference: \",diff)\n",
    "print(\"Product: \",product)\n",
    "print(\"Division: \",quot)\n"
   ]
  },
  {
   "cell_type": "code",
   "execution_count": 5,
   "id": "44825969",
   "metadata": {},
   "outputs": [
    {
     "name": "stdout",
     "output_type": "stream",
     "text": [
      "Sum: 30\n",
      "Division: 2.0\n",
      "Hello, John!\n",
      "Is num2 greater than num1? True\n",
      "List: [1, 2, 3, 4, 5]\n",
      "Second element: 2\n",
      "Updated List: [1, 2, 3, 4, 5, 6]\n",
      "Tuple: (10, 20, 30)\n",
      "Dictionary: {'name': 'Alice', 'age': 25}\n",
      "Age: 25\n"
     ]
    }
   ],
   "source": [
    "# Lab 2: Ex 2:  Python program that demonstrates data types, along with some basic operations:\n",
    "# Integer and Addition\n",
    "num1 = 10\n",
    "num2 = 20\n",
    "sum_result = num1 + num2\n",
    "print(\"Sum:\", sum_result)\n",
    "\n",
    "# Floating-point Division\n",
    "div_result = num2 / num1\n",
    "print(\"Division:\", div_result)\n",
    "\n",
    "# String Concatenation\n",
    "name = \"John\"\n",
    "greeting = \"Hello, \" + name + \"!\"\n",
    "print(greeting)\n",
    "\n",
    "# Boolean and Comparison\n",
    "is_greater = num2 > num1\n",
    "print(\"Is num2 greater than num1?\", is_greater)\n",
    "\n",
    "# Lists\n",
    "my_list = [1, 2, 3, 4, 5]\n",
    "print(\"List:\", my_list)\n",
    "\n",
    "# Accessing List Elements\n",
    "print(\"Second element:\", my_list[1])\n",
    "\n",
    "# Appending to a List\n",
    "my_list.append(6)\n",
    "print(\"Updated List:\", my_list)\n",
    "\n",
    "# Tuple\n",
    "my_tuple = (10, 20, 30)\n",
    "print(\"Tuple:\", my_tuple)\n",
    "\n",
    "# Dictionary\n",
    "my_dict = {\"name\": \"Alice\", \"age\": 25}\n",
    "print(\"Dictionary:\", my_dict)\n",
    "\n",
    "# Accessing Dictionary Values\n",
    "print(\"Age:\", my_dict[\"age\"])\n"
   ]
  },
  {
   "cell_type": "code",
   "execution_count": 12,
   "id": "c943a4c0",
   "metadata": {},
   "outputs": [
    {
     "name": "stdout",
     "output_type": "stream",
     "text": [
      "Actual String:    I love my India  \n",
      "Length of the string is:  19\n",
      "  I LOVE MY INDIA  \n",
      "  i love my india  \n",
      "I love my India\n",
      "['I', 'love', 'my', 'India']\n",
      "  i love my india  \n"
     ]
    }
   ],
   "source": [
    "#Sample problem\n",
    "a=\"  I love my India  \"\n",
    "b=a.strip()\n",
    "c=a.split()\n",
    "d=a.capitalize()\n",
    "print(\"Actual String: \",a)\n",
    "print(\"Length of the string is: \",len(a))\n",
    "print(a.upper())\n",
    "print(a.lower())\n",
    "print(b)\n",
    "print(c)\n",
    "print(d)\n"
   ]
  },
  {
   "cell_type": "code",
   "execution_count": 17,
   "id": "ad7d2312",
   "metadata": {},
   "outputs": [
    {
     "name": "stdout",
     "output_type": "stream",
     "text": [
      "Enter the first digit: 10\n",
      "Enter the operator[\n",
      "Enter the second digit: 2\n",
      "Invalid Operator.\n"
     ]
    }
   ],
   "source": [
    "#Simple calculator\n",
    "def addition(a,b):\n",
    "    sum=a+b\n",
    "    return sum\n",
    "def subtraction(a,b):\n",
    "    diff=a-b\n",
    "    return diff\n",
    "def multiplication(a,b):\n",
    "    prod=a*b\n",
    "    return prod\n",
    "def division(a,b):\n",
    "    div=a/b\n",
    "    return div\n",
    "def power(a,b):\n",
    "    raised=a**b\n",
    "    return raised\n",
    "\n",
    "a=int(input(\"Enter the first digit: \"))\n",
    "oprt=input(\"Enter the operator\")\n",
    "b=int(input(\"Enter the second digit: \"))\n",
    "flag=1\n",
    "while flag==1:\n",
    "    if oprt=='+':\n",
    "        d=addition(a,b)\n",
    "        print(a,\" + \",b,\" = \",d)\n",
    "        break\n",
    "    elif oprt=='-':\n",
    "        e=subtraction(a,b)\n",
    "        print(a,\" - \",b,\" = \",e)\n",
    "        break\n",
    "    elif oprt=='*':\n",
    "        f=multiplication(a,b)\n",
    "        print(a,\" X \",b,\" = \",f)\n",
    "        break\n",
    "    elif oprt=='/':\n",
    "        g=division(a,b)\n",
    "        print(a,\" ÷ \",b,\" = \",g)\n",
    "        break\n",
    "    elif oprt==\"**\":\n",
    "        h=power(a,b)\n",
    "        print(a,\" ^ \",b,\" = \",h)\n",
    "        break\n",
    "    else:\n",
    "        print(\"Invalid Operator.\")\n",
    "        flag=0\n",
    "        break"
   ]
  },
  {
   "cell_type": "code",
   "execution_count": 16,
   "id": "5445b558",
   "metadata": {},
   "outputs": [
    {
     "name": "stdout",
     "output_type": "stream",
     "text": [
      "Enter a nuber: 5\n",
      "5  is an an odd number.\n"
     ]
    }
   ],
   "source": [
    "#Write a code if a number is even or odd using if statement:\n",
    "num=int(input(\"Enter a nuber: \"))\n",
    "if num%2==0:\n",
    "    print(num,\" is an even number.\")\n",
    "else:\n",
    "    print(num,\" is an an odd number.\")"
   ]
  },
  {
   "cell_type": "code",
   "execution_count": 21,
   "id": "47b249d9",
   "metadata": {},
   "outputs": [
    {
     "name": "stdout",
     "output_type": "stream",
     "text": [
      "Enter the temp: 96.8\n",
      "Enter the unit(C/F): F\n",
      "96.8 Fahrenheit =  36.0  celcius.\n"
     ]
    }
   ],
   "source": [
    "#lab 4: ex 2: During a science fair, a student showcased an innovative temperature measurement device. The device provides readings in both Celsius and Fahrenheit. Write a Python program that prompts the user to enter a temperature value along with its unit (\"C\" for Celsius or \"F\" for Fahrenheit). Depending on the unit provided, the program should convert the temperature to the opposite unit and display the converted temperature.\n",
    "\n",
    "#For conversion:\n",
    "#To convert from Celsius to Fahrenheit: Multiply by 9/5 and add 32.\n",
    "#To convert from Fahrenheit to Celsius: Subtract 32 and then multiply by 5/9.\n",
    "\n",
    "def C2F(temp):\n",
    "    conversion=(temp*(9/5))+32\n",
    "    return conversion\n",
    "def F2C(temp):\n",
    "    conversion1=(temp-32)*(5/9)\n",
    "    return conversion1\n",
    "\n",
    "temp=float(input(\"Enter the temp: \"))\n",
    "unit=input(\"Enter the unit(C/F): \")\n",
    "\n",
    "if unit==\"C\":\n",
    "    a=C2F(temp)\n",
    "    print(temp,\"celcius = \",a,\" Fahrenheit.\")\n",
    "    \n",
    "elif unit==\"F\":\n",
    "    b=F2C(temp)\n",
    "    print(temp,\"Fahrenheit = \",b,\" celcius.\")\n",
    "\n",
    "else:\n",
    "    print(\"Invalid unit.\")\n",
    "    \n"
   ]
  },
  {
   "cell_type": "code",
   "execution_count": null,
   "id": "c0c061d7",
   "metadata": {},
   "outputs": [],
   "source": [
    "#lab 4: ex 2(2): During a science fair, a student showcased an innovative temperature measurement device. The device provides readings in both Celsius and Fahrenheit. Write a Python program that prompts the user to enter a temperature value along with its unit (\"C\" for Celsius or \"F\" for Fahrenheit). Depending on the unit provided, the program should convert the temperature to the opposite unit and display the converted temperature.\n",
    "\n",
    "#For conversion:\n",
    "#To convert from Celsius to Fahrenheit: Multiply by 9/5 and add 32.\n",
    "#To convert from Fahrenheit to Celsius: Subtract 32 and then multiply by 5/9.\n",
    "\n",
    "# Getting user input\n",
    "temperature_input = input(\"Enter the temperature value along with its unit (C or F): \")\n",
    "temperature_unit = temperature_input[-1]  # Extract the last character\n",
    "\n",
    "# Extracting the temperature value as a float\n",
    "temperature_value = float(temperature_input[:-1])\n",
    "\n",
    "# Temperature conversion\n",
    "if temperature_unit == \"C\":\n",
    "    converted_temperature = (temperature_value * 9/5) + 32\n",
    "    converted_unit = \"Fahrenheit\"\n",
    "elif temperature_unit == \"F\":\n",
    "    converted_temperature = (temperature_value - 32) * 5/9\n",
    "    converted_unit = \"Celsius\"\n",
    "else:\n",
    "    print(\"Invalid unit. Please enter 'C' for Celsius or 'F' for Fahrenheit.\")\n",
    "    exit()\n",
    "\n",
    "# Displaying the converted temperature\n",
    "print(f\"The converted temperature is {converted_temperature:.2f} {converted_unit}.\")"
   ]
  },
  {
   "cell_type": "code",
   "execution_count": 25,
   "id": "d7b16f51",
   "metadata": {},
   "outputs": [
    {
     "name": "stdout",
     "output_type": "stream",
     "text": [
      "Enter a positive Integer: 12345\n",
      "The sum of the digits in the given integer is :  15\n"
     ]
    }
   ],
   "source": [
    "# Lab 6: ex 2:Write a Python program that asks the user for a positive integer. Use a for loop to calculate and display the sum of its digits. \n",
    "#For example, if the input is 12345, the sum should be 1 + 2 + 3 + 4 + 5 = 15\n",
    "\n",
    "num=int(input(\"Enter a positive Integer: \"))\n",
    "a=str(num)\n",
    "sum=0\n",
    "for i in range(len(a)):\n",
    "    sum+=int(a[i])\n",
    "\n",
    "print(\"The sum of the digits in the given integer is : \",sum)"
   ]
  },
  {
   "cell_type": "code",
   "execution_count": 27,
   "id": "fe63dcb9",
   "metadata": {},
   "outputs": [
    {
     "name": "stdout",
     "output_type": "stream",
     "text": [
      "anjbcshDJ is : default\n"
     ]
    }
   ],
   "source": [
    "def hello(para=\"default\"):\n",
    "    print(\"anjbcshDJ is : {}\".format(para))\n",
    "hello()"
   ]
  },
  {
   "cell_type": "code",
   "execution_count": 29,
   "id": "360cd1ae",
   "metadata": {},
   "outputs": [
    {
     "name": "stdout",
     "output_type": "stream",
     "text": [
      "1)Addition\n",
      "2)Substraction\n",
      "3)Multiplication\n",
      "4)Division\n",
      "Enter an operation : 1\n",
      "Enter the first digit: 12\n",
      "Enter the second digit: 22\n",
      "12  +  22  =  34\n"
     ]
    }
   ],
   "source": [
    "#lab 9: ex2:You've been hired to develop a simple calculator program that performs basic arithmetic operations. \n",
    "#Write a Python program that allows the user to choose an operation (addition, subtraction, multiplication, or division) and then prompts the user to enter two numbers. \n",
    "#Implement separate functions for each operation and display the result of the chosen operation.\n",
    "#Implement the program to provide a user-friendly experience and accurate calculation.\n",
    "\n",
    "def addition(a,b):\n",
    "    sum=a+b\n",
    "    return sum\n",
    "def subtraction(a,b):\n",
    "    diff=a-b\n",
    "    return diff\n",
    "def multiplication(a,b):\n",
    "    prod=a*b\n",
    "    return prod\n",
    "def division(a,b):\n",
    "    div=a/b\n",
    "    return div\n",
    "\n",
    "print(\"1)Addition\\n2)Substraction\\n3)Multiplication\\n4)Division\")\n",
    "operation=int(input(\"Enter an operation : \"))\n",
    "\n",
    "a=int(input(\"Enter the first digit: \"))\n",
    "b=int(input(\"Enter the second digit: \"))\n",
    "flag=1\n",
    "while flag==1:\n",
    "    if operation==1:\n",
    "        d=addition(a,b)\n",
    "        print(a,\" + \",b,\" = \",d)\n",
    "        break\n",
    "    elif operation==2:\n",
    "        e=subtraction(a,b)\n",
    "        print(a,\" - \",b,\" = \",e)\n",
    "        break\n",
    "    elif operation==3:\n",
    "        f=multiplication(a,b)\n",
    "        print(a,\" X \",b,\" = \",f)\n",
    "        break\n",
    "    elif operation==4:\n",
    "        g=division(a,b)\n",
    "        print(a,\" ÷ \",b,\" = \",g)\n",
    "        break\n",
    "    else:\n",
    "        print(\"Invalid Operator.\")\n",
    "        flag=0\n",
    "        break\n",
    "\n"
   ]
  },
  {
   "cell_type": "code",
   "execution_count": 31,
   "id": "30ab266f",
   "metadata": {},
   "outputs": [
    {
     "name": "stdout",
     "output_type": "stream",
     "text": [
      "Enter the list of numbers separated by spaces: 1 2 3 4 5 \n",
      "Squared numbers:  [1, 4, 9, 16, 25]\n"
     ]
    }
   ],
   "source": [
    "#lab 10: ex2: Write a Python program that takes a list of numbers as input and uses a lambda function to calculate the square of each number. \n",
    "#Display the list of squared numbers.\n",
    "\n",
    "sq=lambda x: x**2\n",
    "\n",
    "num_list=input(\"Enter the list of numbers separated by spaces: \").split()\n",
    "\n",
    "num_list=list(map(int,num_list))\n",
    "\n",
    "squared_list=list(map(sq,num_list))\n",
    "\n",
    "print(\"Squared numbers: \",squared_list)"
   ]
  },
  {
   "cell_type": "code",
   "execution_count": 32,
   "id": "5f5efb0b",
   "metadata": {},
   "outputs": [
    {
     "name": "stdout",
     "output_type": "stream",
     "text": [
      "Enter the number of entries you want to add3\n",
      "Enter the name of student 1: om\n",
      "Enter the grade of student 1: 45.6\n",
      "Enter the name of student 2: sid\n",
      "Enter the grade of student 2: 67.54\n",
      "Enter the name of student 3: sai\n",
      "Enter the grade of student 3: 87.34\n",
      "Student Info:\n",
      "Student Name = om, Grade = 45.6\n",
      "Student Name = sid, Grade = 67.54\n",
      "Student Name = sai, Grade = 87.34\n"
     ]
    }
   ],
   "source": [
    "#Lab 11: ex2: Write a Python program that allows a teacher to input the names and grades of students. \n",
    "#Store this information in a dictionary where the student names are keys and the grades are values. After inputting the data, \n",
    "#display the student names and their corresponding grades.\n",
    "\n",
    "num=int(input(\"Enter the number of entries you want to add\"))\n",
    "info={}\n",
    "\n",
    "for i in range(num):\n",
    "    name=input(f\"Enter the name of student {i+1}: \")\n",
    "    grade=float(input(f\"Enter the grade of student {i+1}: \"))\n",
    "    info[name]=grade\n",
    "    \n",
    "print(\"Student Info:\")\n",
    "for name,grade in info.items():\n",
    "    print(f\"Student Name = {name}, Grade = {grade}\")\n"
   ]
  },
  {
   "cell_type": "code",
   "execution_count": 1,
   "id": "01b5c4e1",
   "metadata": {},
   "outputs": [
    {
     "name": "stdout",
     "output_type": "stream",
     "text": [
      "List of operations.\n",
      "1) Division\n",
      "2) File reading\n",
      "Enter the index of the operation you want totperform: 1\n",
      "Enter the first number: 12\n",
      "Eter the second number: 34\n",
      "Result : 0.35294117647058826\n"
     ]
    }
   ],
   "source": [
    "# lab 14: ex 2: Create a program that performs multiple tasks involving different types of exceptions. \n",
    "#Implement appropriate error handling for each task.\n",
    "\n",
    "def division():\n",
    "    try:\n",
    "        num1=int(input(\"Enter the first number: \"))\n",
    "        num2=int(input(\"Eter the second number: \"))\n",
    "        div=num1/num2\n",
    "        print(\"Result :\",div)\n",
    "        \n",
    "    except ValueError:\n",
    "        print(\"Invalid input, Enter a valid number.\")\n",
    "        \n",
    "    except ZeroDivisionError:\n",
    "        print(\"Number cant be divided by Zero.\")\n",
    "        \n",
    "        \n",
    "def fileHandling():\n",
    "    try:\n",
    "        name=input(\"Enter the file name: \")\n",
    "        with open(name,'r') as file:\n",
    "            cont=file.read()\n",
    "            print(\"File content: \",cont)\n",
    "            \n",
    "    except FileNotFoundError:\n",
    "        print(\"File not found.\")\n",
    "        \n",
    "print(\"List of operations.\")\n",
    "print(\"1) Division\\n2) File reading\")\n",
    "operation=int(input(\"Enter the index of the operation you want totperform: \"))\n",
    "\n",
    "if operation==1:\n",
    "    division()\n",
    "    \n",
    "elif operation==2:\n",
    "    fileHandling()\n",
    "\n",
    "else:\n",
    "    exit()"
   ]
  },
  {
   "cell_type": "code",
   "execution_count": 2,
   "id": "28195ea4",
   "metadata": {},
   "outputs": [
    {
     "name": "stdout",
     "output_type": "stream",
     "text": [
      "Enter the length:12\n",
      "Enter the breadth: 12\n",
      "Area of ractangle is : 144\n"
     ]
    }
   ],
   "source": [
    "# AREA problem code\n",
    "\n",
    "class area:\n",
    "    def __init__(self,a,b):\n",
    "            self.l=a\n",
    "            self.b=b\n",
    "    def rect(self):\n",
    "        return self.l*self.b\n",
    "\n",
    "l=int(input(\"Enter the length:\"))\n",
    "b=int(input(\"Enter the breadth: \"))\n",
    "myr=area(l,b)\n",
    "print(f\"Area of ractangle is : {myr.rect()}\")"
   ]
  },
  {
   "cell_type": "code",
   "execution_count": null,
   "id": "e7df9ca2",
   "metadata": {},
   "outputs": [],
   "source": [
    "# Car class problem\n",
    "\n",
    "class Car:\n",
    "    def __init__(self,n):\n",
    "        self.opt=n\n",
    "        \n",
    "    def model1(self):\n",
    "        "
   ]
  },
  {
   "cell_type": "code",
   "execution_count": 4,
   "id": "fa69d9b2",
   "metadata": {},
   "outputs": [
    {
     "name": "stdout",
     "output_type": "stream",
     "text": [
      "Hello iUser.\n",
      "Hello iUser.\n",
      "The years 3 and 4 were the gap years for the team.\n",
      "Improved camera quality.\n",
      "Optimised refresh rates\n",
      "Biggger and Better.\n",
      "Updated bionic chip.\n",
      "Triple cameraa introduction.\n",
      "New cineatic mode.\n",
      "Titanium finished body.\n",
      "Improved camera quality.\n",
      "Optimised refresh rates\n"
     ]
    }
   ],
   "source": [
    "#Inheritance practice\n",
    "\n",
    "class Apple:\n",
    "    def __init__(self):\n",
    "        print(\"Hello iUser.\")\n",
    "        \n",
    "    def year1(self):\n",
    "        print(\"Improved camera quality.\")\n",
    "        print(\"Optimised refresh rates\")\n",
    "        \n",
    "    def year2(self):\n",
    "        print(\"Biggger and Better.\")\n",
    "        print(\"Updated bionic chip.\")\n",
    "        \n",
    "class Gap(Apple):\n",
    "    def __init__(self):\n",
    "        Apple.__init__(self)\n",
    "        print(\"The years 3 and 4 were the gap years for the team.\")\n",
    "        \n",
    "    def year5(self):\n",
    "        print(\"Triple cameraa introduction.\")\n",
    "        print(\"New cineatic mode.\")\n",
    "        print(\"Titanium finished body.\")\n",
    "        \n",
    "i=Apple()\n",
    "j=Gap()\n",
    "i.year1()\n",
    "i.year2()\n",
    "j.year5()\n",
    "j.year1()       \n",
    "    "
   ]
  },
  {
   "cell_type": "code",
   "execution_count": 9,
   "id": "ec0563a1",
   "metadata": {},
   "outputs": [
    {
     "name": "stdout",
     "output_type": "stream",
     "text": [
      "\n",
      "Select an option:\n",
      "1. Add Product\n",
      "2. Display Catalog\n",
      "3. Quit\n",
      "Enter your choice: 1\n",
      "Enter product name: 123\n",
      "Enter product price: 321\n",
      "Enter product description: fdgt\n",
      "Product added to catalog.\n",
      "\n",
      "Select an option:\n",
      "1. Add Product\n",
      "2. Display Catalog\n",
      "3. Quit\n",
      "Enter your choice: 2\n",
      ">>> Product Catalog <<<\n",
      "1. Name: 123 , Price: ₹321.0 , Description: fdgt\n",
      "\n",
      "Select an option:\n",
      "1. Add Product\n",
      "2. Display Catalog\n",
      "3. Quit\n",
      "Enter your choice: 3\n",
      "Exiting the program.\n"
     ]
    }
   ],
   "source": [
    "#Lab 15: ex2: Design a Product class with attributes for name, price, and description. \n",
    "#Implement a program that allows users to add products to a catalog and display the catalog.\n",
    "\n",
    "class product:\n",
    "    def __init__(self,name,price,disc):\n",
    "        self.name=name\n",
    "        self.price=price\n",
    "        self.disc=disc\n",
    "        \n",
    "class Catalog:\n",
    "    def __init__(self):\n",
    "        self.product=[]\n",
    "    \n",
    "    def add_product(self,prdt):\n",
    "        self.product.append(prdt)\n",
    "        \n",
    "    def display(self):\n",
    "        print(\">>> Product Catalog <<<\")\n",
    "        for index,item in enumerate(self.product,start=1):\n",
    "            print(f\"{index}. Name: {product.name} , Price: ₹{product.price} , Description: {product.disc}\")\n",
    "            \n",
    "catalog = Catalog()\n",
    "\n",
    "while True:\n",
    "    print(\"\\nSelect an option:\")\n",
    "    print(\"1. Add Product\")\n",
    "    print(\"2. Display Catalog\")\n",
    "    print(\"3. Quit\")\n",
    "    choice = input(\"Enter your choice: \")\n",
    "\n",
    "    if choice == '1':\n",
    "        name = input(\"Enter product name: \")\n",
    "        price = float(input(\"Enter product price: \"))\n",
    "        description = input(\"Enter product description: \")\n",
    "        \n",
    "        product = product(name, price, description)\n",
    "        catalog.add_product(product)\n",
    "        print(\"Product added to catalog.\")\n",
    "    elif choice == '2':\n",
    "        catalog.display()\n",
    "        \n",
    "    elif choice == '3':\n",
    "        print(\"Exiting the program.\")\n",
    "        break\n",
    "    else:\n",
    "        print(\"Invalid choice. Please enter a valid option.\")\n",
    "        \n",
    "        \n",
    "        "
   ]
  },
  {
   "cell_type": "code",
   "execution_count": null,
   "id": "e7f091b2",
   "metadata": {},
   "outputs": [],
   "source": []
  }
 ],
 "metadata": {
  "kernelspec": {
   "display_name": "Python 3",
   "language": "python",
   "name": "python3"
  },
  "language_info": {
   "codemirror_mode": {
    "name": "ipython",
    "version": 3
   },
   "file_extension": ".py",
   "mimetype": "text/x-python",
   "name": "python",
   "nbconvert_exporter": "python",
   "pygments_lexer": "ipython3",
   "version": "3.8.8"
  }
 },
 "nbformat": 4,
 "nbformat_minor": 5
}
