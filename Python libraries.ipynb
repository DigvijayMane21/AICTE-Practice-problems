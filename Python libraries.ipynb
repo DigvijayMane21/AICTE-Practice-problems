{
 "cells": [
  {
   "cell_type": "markdown",
   "id": "44810705",
   "metadata": {},
   "source": [
    "# NumPy"
   ]
  },
  {
   "cell_type": "code",
   "execution_count": 3,
   "id": "ac4d2151",
   "metadata": {},
   "outputs": [
    {
     "name": "stdout",
     "output_type": "stream",
     "text": [
      "[1 2 3 4]\n"
     ]
    }
   ],
   "source": [
    "import numpy as np\n",
    "#1st method\n",
    "myArray=np.array([1,2,3,4])\n",
    "print(myArray)"
   ]
  },
  {
   "cell_type": "code",
   "execution_count": 4,
   "id": "1478cf0b",
   "metadata": {},
   "outputs": [
    {
     "data": {
      "text/plain": [
       "'1.20.1'"
      ]
     },
     "execution_count": 4,
     "metadata": {},
     "output_type": "execute_result"
    }
   ],
   "source": [
    "#checking library version\n",
    "np.__version__\n"
   ]
  },
  {
   "cell_type": "markdown",
   "id": "2afafa53",
   "metadata": {},
   "source": [
    "# Different Dimensional Arrays"
   ]
  },
  {
   "cell_type": "markdown",
   "id": "c0a89c00",
   "metadata": {},
   "source": [
    "# 1) OneD array"
   ]
  },
  {
   "cell_type": "code",
   "execution_count": 7,
   "id": "60e387d8",
   "metadata": {},
   "outputs": [
    {
     "name": "stdout",
     "output_type": "stream",
     "text": [
      "[1 2 3 4 5 6]\n"
     ]
    }
   ],
   "source": [
    "#1st method\n",
    "oneD=np.array([1,2,3,4,5,6])\n",
    "print(oneD)"
   ]
  },
  {
   "cell_type": "code",
   "execution_count": 6,
   "id": "c951147e",
   "metadata": {},
   "outputs": [
    {
     "name": "stdout",
     "output_type": "stream",
     "text": [
      "[1 2 3 4 5 6]\n"
     ]
    }
   ],
   "source": [
    "#2ndmethod\n",
    "ele=[1,2,3,4,5,6]\n",
    "oneD=np.array(ele)\n",
    "print(oneD)"
   ]
  },
  {
   "cell_type": "markdown",
   "id": "32347ea1",
   "metadata": {},
   "source": [
    "# Mutidimensional Array\n"
   ]
  },
  {
   "cell_type": "markdown",
   "id": "4a99e985",
   "metadata": {},
   "source": [
    "# 2D Array"
   ]
  },
  {
   "cell_type": "code",
   "execution_count": 10,
   "id": "c3973e3f",
   "metadata": {},
   "outputs": [
    {
     "name": "stdout",
     "output_type": "stream",
     "text": [
      "[[1 2 3]\n",
      " [4 5 6]]\n"
     ]
    }
   ],
   "source": [
    "#1st method\n",
    "twoD=np.array([[1,2,3],[4,5,6]])\n",
    "print(twoD)"
   ]
  },
  {
   "cell_type": "code",
   "execution_count": 11,
   "id": "fda7ccaf",
   "metadata": {},
   "outputs": [
    {
     "name": "stdout",
     "output_type": "stream",
     "text": [
      "[[1 2 3]\n",
      " [4 5 6]]\n"
     ]
    }
   ],
   "source": [
    "#2nd method\n",
    "ele=[[1,2,3],[4,5,6]]\n",
    "twoD=np.array(ele)\n",
    "print(twoD)"
   ]
  },
  {
   "cell_type": "markdown",
   "id": "2522d074",
   "metadata": {},
   "source": [
    "# Creating ndArrays with Zeros"
   ]
  },
  {
   "cell_type": "code",
   "execution_count": 12,
   "id": "9b13e602",
   "metadata": {},
   "outputs": [
    {
     "data": {
      "text/plain": [
       "array([0., 0., 0., 0., 0.])"
      ]
     },
     "execution_count": 12,
     "metadata": {},
     "output_type": "execute_result"
    }
   ],
   "source": [
    "#1st method\n",
    "y=np.zeros(5)\n",
    "y"
   ]
  },
  {
   "cell_type": "code",
   "execution_count": 15,
   "id": "7a9426cc",
   "metadata": {},
   "outputs": [
    {
     "data": {
      "text/plain": [
       "array([[0, 0, 0],\n",
       "       [0, 0, 0]])"
      ]
     },
     "execution_count": 15,
     "metadata": {},
     "output_type": "execute_result"
    }
   ],
   "source": [
    "#2nd method\n",
    "x=np.zeros((2,3),dtype=int)\n",
    "x"
   ]
  },
  {
   "cell_type": "markdown",
   "id": "0334e70a",
   "metadata": {},
   "source": [
    "# Creating ndArrays with Ones"
   ]
  },
  {
   "cell_type": "code",
   "execution_count": 16,
   "id": "ec984c8f",
   "metadata": {},
   "outputs": [
    {
     "data": {
      "text/plain": [
       "array([1., 1., 1., 1., 1.])"
      ]
     },
     "execution_count": 16,
     "metadata": {},
     "output_type": "execute_result"
    }
   ],
   "source": [
    "#1st method\n",
    "y=np.ones(5)\n",
    "y"
   ]
  },
  {
   "cell_type": "code",
   "execution_count": 17,
   "id": "1760e01c",
   "metadata": {},
   "outputs": [
    {
     "data": {
      "text/plain": [
       "array([[1, 1, 1, 1, 1],\n",
       "       [1, 1, 1, 1, 1],\n",
       "       [1, 1, 1, 1, 1],\n",
       "       [1, 1, 1, 1, 1],\n",
       "       [1, 1, 1, 1, 1]])"
      ]
     },
     "execution_count": 17,
     "metadata": {},
     "output_type": "execute_result"
    }
   ],
   "source": [
    "#2nd method\n",
    "x=np.ones((5,5),dtype=int)\n",
    "x"
   ]
  },
  {
   "cell_type": "markdown",
   "id": "8dcfe1ee",
   "metadata": {},
   "source": [
    "# Numpy Array attributes\n",
    "* Each array has feature like shape, size and number of dimensions"
   ]
  },
  {
   "cell_type": "markdown",
   "id": "77e41252",
   "metadata": {},
   "source": [
    "# 1.NdArray.Shape\n",
    "* it returns a tuple of array dimension"
   ]
  },
  {
   "cell_type": "code",
   "execution_count": 18,
   "id": "da35de90",
   "metadata": {},
   "outputs": [
    {
     "name": "stdout",
     "output_type": "stream",
     "text": [
      "(2, 3)\n"
     ]
    }
   ],
   "source": [
    "a=np.array([[1,2,3],[4,5,6]])\n",
    "a.ndim\n",
    "print(a.shape)"
   ]
  },
  {
   "cell_type": "markdown",
   "id": "e3206bce",
   "metadata": {},
   "source": [
    "# Random  number \n",
    "\n",
    "* The random module in numpy package contains many functions for generation of random numbers."
   ]
  },
  {
   "cell_type": "markdown",
   "id": "eb23062a",
   "metadata": {},
   "source": [
    "# 1. numpy.random.rand()\n",
    "\n",
    "*Generate 10 Random floats"
   ]
  },
  {
   "cell_type": "code",
   "execution_count": 21,
   "id": "7d033f2c",
   "metadata": {},
   "outputs": [
    {
     "name": "stdout",
     "output_type": "stream",
     "text": [
      "(10,)\n"
     ]
    },
    {
     "data": {
      "text/plain": [
       "array([3.49794885e-01, 6.43167065e-01, 6.58862458e-01, 6.39380142e-01,\n",
       "       7.90686452e-01, 5.73012272e-01, 9.20422259e-02, 1.76190062e-04,\n",
       "       1.24211579e-01, 8.33555338e-01])"
      ]
     },
     "execution_count": 21,
     "metadata": {},
     "output_type": "execute_result"
    }
   ],
   "source": [
    "x=np.random.rand(10)\n",
    "x.ndim\n",
    "print(x.shape)\n",
    "x"
   ]
  },
  {
   "cell_type": "markdown",
   "id": "b3dd2b62",
   "metadata": {},
   "source": [
    "# Generate random integer from given range"
   ]
  },
  {
   "cell_type": "code",
   "execution_count": 23,
   "id": "8c56ce2a",
   "metadata": {},
   "outputs": [
    {
     "data": {
      "text/plain": [
       "array([14, 88, 39, 20, 11, 67, 74, 83, 54, 59, 89,  1,  3, 17, 53, 12, 87,\n",
       "       71,  2, 10, 51, 99, 68, 39, 44, 49, 46, 54, 18, 32])"
      ]
     },
     "execution_count": 23,
     "metadata": {},
     "output_type": "execute_result"
    }
   ],
   "source": [
    "x=np.random.randint(1,100,size=30)\n",
    "x"
   ]
  },
  {
   "cell_type": "code",
   "execution_count": 24,
   "id": "b03526d7",
   "metadata": {},
   "outputs": [
    {
     "data": {
      "text/plain": [
       "array([[97, 22],\n",
       "       [99, 25],\n",
       "       [42, 87]])"
      ]
     },
     "execution_count": 24,
     "metadata": {},
     "output_type": "execute_result"
    }
   ],
   "source": [
    "#Generate a (3,2)vector \n",
    "x=np.random.randint(1,100,size=(3,2))\n",
    "x"
   ]
  },
  {
   "cell_type": "markdown",
   "id": "17f07036",
   "metadata": {},
   "source": [
    "# Generate random number from array\n",
    "* The choice() method allows you to generate a random value based on an array of values  "
   ]
  },
  {
   "cell_type": "code",
   "execution_count": 25,
   "id": "d2ba03a9",
   "metadata": {},
   "outputs": [
    {
     "data": {
      "text/plain": [
       "7"
      ]
     },
     "execution_count": 25,
     "metadata": {},
     "output_type": "execute_result"
    }
   ],
   "source": [
    "# Generate a random number from a list of element [1,2,3,4,5,6,7,8]\n",
    "x=np.random.choice([1,2,3,4,5,6,7,8])\n",
    "x"
   ]
  },
  {
   "cell_type": "code",
   "execution_count": 26,
   "id": "9cc7fed9",
   "metadata": {},
   "outputs": [
    {
     "data": {
      "text/plain": [
       "array([5, 5, 8])"
      ]
     },
     "execution_count": 26,
     "metadata": {},
     "output_type": "execute_result"
    }
   ],
   "source": [
    "# Generate multiple random numbers from a list of element [1,2,3,4,5,6,7,8]\n",
    "x=np.random.choice([1,2,3,4,5,6,7,8],size=3)\n",
    "x"
   ]
  },
  {
   "cell_type": "markdown",
   "id": "347c11ac",
   "metadata": {},
   "source": [
    "# Accessing elements from an array\n",
    "* Indexing in numpy is quite similar topython's list standard"
   ]
  },
  {
   "cell_type": "code",
   "execution_count": 27,
   "id": "a8459827",
   "metadata": {},
   "outputs": [
    {
     "data": {
      "text/plain": [
       "56"
      ]
     },
     "execution_count": 27,
     "metadata": {},
     "output_type": "execute_result"
    }
   ],
   "source": [
    "# In 1D \n",
    "x=np.array([10,23,45,56])\n",
    "x[3]"
   ]
  },
  {
   "cell_type": "code",
   "execution_count": 30,
   "id": "711c928c",
   "metadata": {},
   "outputs": [
    {
     "name": "stdout",
     "output_type": "stream",
     "text": [
      "34\n",
      "76\n"
     ]
    }
   ],
   "source": [
    "# In Multidimension\n",
    "# 1st method\n",
    "\n",
    "x=np.array([[22,34,54],[33,76,21]])\n",
    "print(x[0][1])\n",
    "print(x[1][1])"
   ]
  },
  {
   "cell_type": "markdown",
   "id": "f10430c5",
   "metadata": {},
   "source": [
    "# Indexing and Slicing\n",
    "* Basic Slicing"
   ]
  },
  {
   "cell_type": "code",
   "execution_count": 31,
   "id": "cfb3939a",
   "metadata": {},
   "outputs": [
    {
     "data": {
      "text/plain": [
       "array([23, 22, 98])"
      ]
     },
     "execution_count": 31,
     "metadata": {},
     "output_type": "execute_result"
    }
   ],
   "source": [
    "x=np.array([10,23,45,4,22,14,56,98,77,102,11])\n",
    "x[1:9:3]"
   ]
  },
  {
   "cell_type": "code",
   "execution_count": 32,
   "id": "db1d2fe4",
   "metadata": {},
   "outputs": [
    {
     "data": {
      "text/plain": [
       "array([[35, 76, 85],\n",
       "       [22, 11, 44],\n",
       "       [26, 93, 46]])"
      ]
     },
     "execution_count": 32,
     "metadata": {},
     "output_type": "execute_result"
    }
   ],
   "source": [
    "x=np.array([[23,45,32],[35,76,85],[22,11,44],[26,93,46]])\n",
    "x[1:]"
   ]
  },
  {
   "cell_type": "markdown",
   "id": "ad8b5ebe",
   "metadata": {},
   "source": [
    "# Fancy Indexing\n",
    "* Here we apply indexing on both rows and columns simultenously"
   ]
  },
  {
   "cell_type": "code",
   "execution_count": 33,
   "id": "d4aefec1",
   "metadata": {},
   "outputs": [
    {
     "data": {
      "text/plain": [
       "array([[92, 81, 83, 47, 48, 87],\n",
       "       [87,  3, 68,  1, 67, 91],\n",
       "       [49, 93, 84, 36, 77, 99],\n",
       "       [67, 56, 31, 90, 47, 50],\n",
       "       [55, 78,  0, 59,  8, 58],\n",
       "       [ 6, 25,  9, 58, 72, 12],\n",
       "       [40, 91, 36, 55, 76, 87],\n",
       "       [72, 61, 80, 59, 58, 86],\n",
       "       [47, 34, 73, 48, 56, 29],\n",
       "       [27, 39, 88, 10, 78, 66]])"
      ]
     },
     "execution_count": 33,
     "metadata": {},
     "output_type": "execute_result"
    }
   ],
   "source": [
    "x=np.random.randint(100,size=(10,6))\n",
    "x"
   ]
  },
  {
   "cell_type": "code",
   "execution_count": 34,
   "id": "302d440f",
   "metadata": {},
   "outputs": [
    {
     "data": {
      "text/plain": [
       "array([[81, 47, 87],\n",
       "       [ 3,  1, 91],\n",
       "       [93, 36, 99],\n",
       "       [56, 90, 50],\n",
       "       [78, 59, 58],\n",
       "       [25, 58, 12],\n",
       "       [91, 55, 87],\n",
       "       [61, 59, 86],\n",
       "       [34, 48, 29],\n",
       "       [39, 10, 66]])"
      ]
     },
     "execution_count": 34,
     "metadata": {},
     "output_type": "execute_result"
    }
   ],
   "source": [
    "#printing 2nd, 4th and 6th column\n",
    "x[:,[1,3,5]]"
   ]
  },
  {
   "cell_type": "code",
   "execution_count": 38,
   "id": "bdab3831",
   "metadata": {},
   "outputs": [
    {
     "data": {
      "text/plain": [
       "array([[87,  3, 68,  1, 67, 91],\n",
       "       [49, 93, 84, 36, 77, 99],\n",
       "       [67, 56, 31, 90, 47, 50],\n",
       "       [55, 78,  0, 59,  8, 58],\n",
       "       [ 6, 25,  9, 58, 72, 12],\n",
       "       [40, 91, 36, 55, 76, 87],\n",
       "       [72, 61, 80, 59, 58, 86]])"
      ]
     },
     "execution_count": 38,
     "metadata": {},
     "output_type": "execute_result"
    }
   ],
   "source": [
    "# printin grows from 2 to 7 \n",
    "x[[1,2,3,4,5,6,7],:]"
   ]
  },
  {
   "cell_type": "code",
   "execution_count": 39,
   "id": "fdb4daf8",
   "metadata": {},
   "outputs": [
    {
     "data": {
      "text/plain": [
       "array([[92, 83, 48],\n",
       "       [49, 84, 77],\n",
       "       [55,  0,  8],\n",
       "       [40, 36, 76],\n",
       "       [47, 73, 56]])"
      ]
     },
     "execution_count": 39,
     "metadata": {},
     "output_type": "execute_result"
    }
   ],
   "source": [
    "# printing alternate rows and alternate columns\n",
    "x[::2,::2]"
   ]
  },
  {
   "cell_type": "markdown",
   "id": "c8497f07",
   "metadata": {},
   "source": [
    "# Reshaping of an array"
   ]
  },
  {
   "cell_type": "code",
   "execution_count": 41,
   "id": "daa81c8d",
   "metadata": {},
   "outputs": [
    {
     "data": {
      "text/plain": [
       "array([[1, 2, 3],\n",
       "       [4, 5, 6],\n",
       "       [7, 8, 9]])"
      ]
     },
     "execution_count": 41,
     "metadata": {},
     "output_type": "execute_result"
    }
   ],
   "source": [
    "#Reshape the nos 1 to 9 in 3x3 grid \n",
    "#e.g for 9 elements dimensions should be (3x3) or (1x9) or(9x1)\n",
    "\n",
    "x=np.arange(1,10).reshape(3,3)\n",
    "x"
   ]
  },
  {
   "cell_type": "markdown",
   "id": "cdb96004",
   "metadata": {},
   "source": [
    "# Transposing an array"
   ]
  },
  {
   "cell_type": "code",
   "execution_count": 46,
   "id": "000ec147",
   "metadata": {
    "scrolled": true
   },
   "outputs": [
    {
     "name": "stdout",
     "output_type": "stream",
     "text": [
      "Transpose of \n",
      "[[1 2 3]\n",
      " [4 5 6]\n",
      " [7 8 9]] \n",
      "is \n",
      "[[1 4 7]\n",
      " [2 5 8]\n",
      " [3 6 9]]\n"
     ]
    }
   ],
   "source": [
    "x=np.arange(1,10).reshape(3,3)\n",
    "#print(x)\n",
    "print(f\"Transpose of \\n{x} \\nis \\n{x.T}\")"
   ]
  },
  {
   "cell_type": "markdown",
   "id": "7d0099a9",
   "metadata": {},
   "source": [
    "# np.concatenate"
   ]
  },
  {
   "cell_type": "code",
   "execution_count": 47,
   "id": "7c5e6564",
   "metadata": {},
   "outputs": [
    {
     "name": "stdout",
     "output_type": "stream",
     "text": [
      "[1 2 3 4 5 6 7 8]\n"
     ]
    }
   ],
   "source": [
    "x=np.array([1,2,3,4])\n",
    "y=np.array([5,6,7,8])\n",
    "z=np.concatenate([x,y])\n",
    "print(z)"
   ]
  },
  {
   "cell_type": "code",
   "execution_count": 49,
   "id": "972bc895",
   "metadata": {},
   "outputs": [
    {
     "name": "stdout",
     "output_type": "stream",
     "text": [
      "[[ 1  2  3  4]\n",
      " [ 9 11 12 34]\n",
      " [ 5  6  7  8]\n",
      " [36 76 32 66]]\n"
     ]
    }
   ],
   "source": [
    "x=np.array([[1,2,3,4],[9,11,12,34]])\n",
    "y=np.array([[5,6,7,8],[36,76,32,66]])\n",
    "z=np.concatenate([x,y])\n",
    "print(z)"
   ]
  },
  {
   "cell_type": "markdown",
   "id": "c99aa5ee",
   "metadata": {},
   "source": [
    "# Joining 2D Arrays "
   ]
  },
  {
   "cell_type": "code",
   "execution_count": 55,
   "id": "8a08ad84",
   "metadata": {},
   "outputs": [
    {
     "name": "stdout",
     "output_type": "stream",
     "text": [
      "[[1 2 3 4]\n",
      " [5 6 7 8]]\n",
      "\n",
      " [[33 23  4 12]\n",
      " [97 56 38 31]]\n",
      "\n",
      "Concatenated matrix when axis=0 is\n"
     ]
    },
    {
     "data": {
      "text/plain": [
       "array([[ 1,  2,  3,  4],\n",
       "       [ 5,  6,  7,  8],\n",
       "       [33, 23,  4, 12],\n",
       "       [97, 56, 38, 31]])"
      ]
     },
     "execution_count": 55,
     "metadata": {},
     "output_type": "execute_result"
    }
   ],
   "source": [
    "# If axis is not explicitly passed it is taken to be 0 \n",
    "x=np.array([[1,2,3,4],[5,6,7,8]])\n",
    "y=np.array([[33,23,4,12],[97,56,38,31]])\n",
    "print(x)\n",
    "print(\"\\n\",y)\n",
    "print(\"\\nConcatenated matrix when axis=0 is\")\n",
    "np.concatenate([x,y])\n"
   ]
  },
  {
   "cell_type": "code",
   "execution_count": 56,
   "id": "30356f64",
   "metadata": {},
   "outputs": [
    {
     "name": "stdout",
     "output_type": "stream",
     "text": [
      "[[1 2 3 4]\n",
      " [5 6 7 8]]\n",
      "\n",
      " [[33 23  4 12]\n",
      " [97 56 38 31]]\n",
      "\n",
      "Concatenated matrix when axis=1 is\n"
     ]
    },
    {
     "data": {
      "text/plain": [
       "array([[ 1,  2,  3,  4, 33, 23,  4, 12],\n",
       "       [ 5,  6,  7,  8, 97, 56, 38, 31]])"
      ]
     },
     "execution_count": 56,
     "metadata": {},
     "output_type": "execute_result"
    }
   ],
   "source": [
    "# when axis = 1\n",
    "x=np.array([[1,2,3,4],[5,6,7,8]])\n",
    "y=np.array([[33,23,4,12],[97,56,38,31]])\n",
    "print(x)\n",
    "print(\"\\n\",y)\n",
    "print(\"\\nConcatenated matrix when axis=1 is\")\n",
    "np.concatenate([x,y],axis=1)"
   ]
  },
  {
   "cell_type": "markdown",
   "id": "906b9cb6",
   "metadata": {},
   "source": [
    "# Arithmetic operations on matrices\n"
   ]
  },
  {
   "cell_type": "code",
   "execution_count": 57,
   "id": "9dad1aa0",
   "metadata": {},
   "outputs": [
    {
     "name": "stdout",
     "output_type": "stream",
     "text": [
      "[[1 2 3 4]\n",
      " [5 6 7 8]]\n",
      "\n",
      " [[33 23  4 12]\n",
      " [97 56 38 31]]\n",
      "\n",
      "Addition is\n"
     ]
    },
    {
     "data": {
      "text/plain": [
       "array([[ 34,  25,   7,  16],\n",
       "       [102,  62,  45,  39]])"
      ]
     },
     "execution_count": 57,
     "metadata": {},
     "output_type": "execute_result"
    }
   ],
   "source": [
    "x=np.array([[1,2,3,4],[5,6,7,8]])\n",
    "y=np.array([[33,23,4,12],[97,56,38,31]])\n",
    "print(x)\n",
    "print(\"\\n\",y)\n",
    "print(\"\\nAddition is\")\n",
    "x+y"
   ]
  },
  {
   "cell_type": "code",
   "execution_count": 58,
   "id": "5e457c50",
   "metadata": {},
   "outputs": [
    {
     "name": "stdout",
     "output_type": "stream",
     "text": [
      "[[1 2 3 4]\n",
      " [5 6 7 8]]\n",
      "\n",
      " [[33 23  4 12]\n",
      " [97 56 38 31]]\n",
      "\n",
      "Substraction is\n"
     ]
    },
    {
     "data": {
      "text/plain": [
       "array([[-32, -21,  -1,  -8],\n",
       "       [-92, -50, -31, -23]])"
      ]
     },
     "execution_count": 58,
     "metadata": {},
     "output_type": "execute_result"
    }
   ],
   "source": [
    "x=np.array([[1,2,3,4],[5,6,7,8]])\n",
    "y=np.array([[33,23,4,12],[97,56,38,31]])\n",
    "print(x)\n",
    "print(\"\\n\",y)\n",
    "print(\"\\nSubstraction is\")\n",
    "x-y"
   ]
  },
  {
   "cell_type": "code",
   "execution_count": 59,
   "id": "30fdd67d",
   "metadata": {},
   "outputs": [
    {
     "name": "stdout",
     "output_type": "stream",
     "text": [
      "[[1 2 3 4]\n",
      " [5 6 7 8]]\n",
      "\n",
      " [[33 23  4 12]\n",
      " [97 56 38 31]]\n",
      "\n",
      "Multiplication is\n"
     ]
    },
    {
     "data": {
      "text/plain": [
       "array([[ 33,  46,  12,  48],\n",
       "       [485, 336, 266, 248]])"
      ]
     },
     "execution_count": 59,
     "metadata": {},
     "output_type": "execute_result"
    }
   ],
   "source": [
    "x=np.array([[1,2,3,4],[5,6,7,8]])\n",
    "y=np.array([[33,23,4,12],[97,56,38,31]])\n",
    "print(x)\n",
    "print(\"\\n\",y)\n",
    "print(\"\\nMultiplication is\")\n",
    "x*y"
   ]
  },
  {
   "cell_type": "code",
   "execution_count": 60,
   "id": "aacb45d9",
   "metadata": {},
   "outputs": [
    {
     "name": "stdout",
     "output_type": "stream",
     "text": [
      "[[1 2 3 4]\n",
      " [5 6 7 8]]\n",
      "\n",
      " [[33 23  4 12]\n",
      " [97 56 38 31]]\n",
      "\n",
      "Division is\n"
     ]
    },
    {
     "data": {
      "text/plain": [
       "array([[0.03030303, 0.08695652, 0.75      , 0.33333333],\n",
       "       [0.05154639, 0.10714286, 0.18421053, 0.25806452]])"
      ]
     },
     "execution_count": 60,
     "metadata": {},
     "output_type": "execute_result"
    }
   ],
   "source": [
    "x=np.array([[1,2,3,4],[5,6,7,8]])\n",
    "y=np.array([[33,23,4,12],[97,56,38,31]])\n",
    "print(x)\n",
    "print(\"\\n\",y)\n",
    "print(\"\\nDivision is\")\n",
    "x/y"
   ]
  },
  {
   "cell_type": "markdown",
   "id": "3e983bcf",
   "metadata": {},
   "source": [
    "# Pandas\n",
    "\n",
    "* Series is only single column\n",
    "* DataFrame is a structure which is 2D array.\n",
    "* Multipe panda series make panda DataFrames."
   ]
  },
  {
   "cell_type": "code",
   "execution_count": 62,
   "id": "e7325b85",
   "metadata": {},
   "outputs": [],
   "source": [
    "import pandas as pd\n",
    "import numpy as np"
   ]
  },
  {
   "cell_type": "markdown",
   "id": "19de4314",
   "metadata": {},
   "source": [
    "# Creating Pandas DataFrame from the dictionary"
   ]
  },
  {
   "cell_type": "code",
   "execution_count": 63,
   "id": "d18602df",
   "metadata": {},
   "outputs": [
    {
     "data": {
      "text/plain": [
       "{'student': ['Digvijay', 'Rutika', 'Ishwari', 'Omkar'],\n",
       " 'Year': [3, 2, 3, 1],\n",
       " 'Marks': [95, 96, 97, 98]}"
      ]
     },
     "execution_count": 63,
     "metadata": {},
     "output_type": "execute_result"
    }
   ],
   "source": [
    "data={'student':['Digvijay','Rutika','Ishwari','Omkar'],'Year':[3,2,3,1],\"Marks\":[95,96,97,98]}\n",
    "data"
   ]
  },
  {
   "cell_type": "code",
   "execution_count": 67,
   "id": "1d0d28e4",
   "metadata": {},
   "outputs": [
    {
     "data": {
      "text/html": [
       "<div>\n",
       "<style scoped>\n",
       "    .dataframe tbody tr th:only-of-type {\n",
       "        vertical-align: middle;\n",
       "    }\n",
       "\n",
       "    .dataframe tbody tr th {\n",
       "        vertical-align: top;\n",
       "    }\n",
       "\n",
       "    .dataframe thead th {\n",
       "        text-align: right;\n",
       "    }\n",
       "</style>\n",
       "<table border=\"1\" class=\"dataframe\">\n",
       "  <thead>\n",
       "    <tr style=\"text-align: right;\">\n",
       "      <th></th>\n",
       "      <th>student</th>\n",
       "      <th>Year</th>\n",
       "      <th>Marks</th>\n",
       "    </tr>\n",
       "  </thead>\n",
       "  <tbody>\n",
       "    <tr>\n",
       "      <th>0</th>\n",
       "      <td>Digvijay</td>\n",
       "      <td>3</td>\n",
       "      <td>95</td>\n",
       "    </tr>\n",
       "    <tr>\n",
       "      <th>1</th>\n",
       "      <td>Rutika</td>\n",
       "      <td>2</td>\n",
       "      <td>96</td>\n",
       "    </tr>\n",
       "    <tr>\n",
       "      <th>2</th>\n",
       "      <td>Ishwari</td>\n",
       "      <td>3</td>\n",
       "      <td>97</td>\n",
       "    </tr>\n",
       "    <tr>\n",
       "      <th>3</th>\n",
       "      <td>Omkar</td>\n",
       "      <td>1</td>\n",
       "      <td>98</td>\n",
       "    </tr>\n",
       "  </tbody>\n",
       "</table>\n",
       "</div>"
      ],
      "text/plain": [
       "    student  Year  Marks\n",
       "0  Digvijay     3     95\n",
       "1    Rutika     2     96\n",
       "2   Ishwari     3     97\n",
       "3     Omkar     1     98"
      ]
     },
     "execution_count": 67,
     "metadata": {},
     "output_type": "execute_result"
    }
   ],
   "source": [
    "df=pd.DataFrame(data)\n",
    "df"
   ]
  },
  {
   "cell_type": "markdown",
   "id": "49624ccb",
   "metadata": {},
   "source": [
    "# Note: the type for column is pandas Series\n"
   ]
  },
  {
   "cell_type": "code",
   "execution_count": 65,
   "id": "2a3f1119",
   "metadata": {},
   "outputs": [
    {
     "data": {
      "text/plain": [
       "pandas.core.frame.DataFrame"
      ]
     },
     "execution_count": 65,
     "metadata": {},
     "output_type": "execute_result"
    }
   ],
   "source": [
    "#type\n",
    "type(df)"
   ]
  },
  {
   "cell_type": "code",
   "execution_count": 66,
   "id": "626bc461",
   "metadata": {},
   "outputs": [
    {
     "data": {
      "text/plain": [
       "pandas.core.series.Series"
      ]
     },
     "execution_count": 66,
     "metadata": {},
     "output_type": "execute_result"
    }
   ],
   "source": [
    "type(df['student'])"
   ]
  },
  {
   "cell_type": "code",
   "execution_count": 68,
   "id": "6f930701",
   "metadata": {},
   "outputs": [
    {
     "data": {
      "text/plain": [
       "0    Digvijay\n",
       "1      Rutika\n",
       "2     Ishwari\n",
       "3       Omkar\n",
       "Name: student, dtype: object"
      ]
     },
     "execution_count": 68,
     "metadata": {},
     "output_type": "execute_result"
    }
   ],
   "source": [
    "df['student']"
   ]
  },
  {
   "cell_type": "code",
   "execution_count": 70,
   "id": "5cee8004",
   "metadata": {},
   "outputs": [
    {
     "name": "stdout",
     "output_type": "stream",
     "text": [
      "0    95\n",
      "1    96\n",
      "2    97\n",
      "3    98\n",
      "Name: Marks, dtype: int64\n"
     ]
    },
    {
     "data": {
      "text/plain": [
       "386"
      ]
     },
     "execution_count": 70,
     "metadata": {},
     "output_type": "execute_result"
    }
   ],
   "source": [
    "print(df['Marks'])\n",
    "df['Marks'].sum()"
   ]
  },
  {
   "cell_type": "markdown",
   "id": "173c7197",
   "metadata": {},
   "source": [
    "# Construction of DataFrame\n",
    "\n",
    "DataFrames can be created from many types of input:\n",
    "    \n",
    "    * columns (dict of lists)\n",
    "    * rows (lists of dicts)\n",
    "    * CSV file (pd.read_csv)\n",
    "    * from NumPy ndarray "
   ]
  },
  {
   "cell_type": "markdown",
   "id": "099e82ee",
   "metadata": {},
   "source": [
    "# Construction from rows(list of dicts)"
   ]
  },
  {
   "cell_type": "code",
   "execution_count": 71,
   "id": "ba70d549",
   "metadata": {},
   "outputs": [
    {
     "data": {
      "text/html": [
       "<div>\n",
       "<style scoped>\n",
       "    .dataframe tbody tr th:only-of-type {\n",
       "        vertical-align: middle;\n",
       "    }\n",
       "\n",
       "    .dataframe tbody tr th {\n",
       "        vertical-align: top;\n",
       "    }\n",
       "\n",
       "    .dataframe thead th {\n",
       "        text-align: right;\n",
       "    }\n",
       "</style>\n",
       "<table border=\"1\" class=\"dataframe\">\n",
       "  <thead>\n",
       "    <tr style=\"text-align: right;\">\n",
       "      <th></th>\n",
       "      <th>name</th>\n",
       "      <th>marks</th>\n",
       "      <th>grade</th>\n",
       "    </tr>\n",
       "  </thead>\n",
       "  <tbody>\n",
       "    <tr>\n",
       "      <th>0</th>\n",
       "      <td>abc</td>\n",
       "      <td>98</td>\n",
       "      <td>NaN</td>\n",
       "    </tr>\n",
       "    <tr>\n",
       "      <th>1</th>\n",
       "      <td>bcd</td>\n",
       "      <td>95</td>\n",
       "      <td>NaN</td>\n",
       "    </tr>\n",
       "    <tr>\n",
       "      <th>2</th>\n",
       "      <td>cde</td>\n",
       "      <td>96</td>\n",
       "      <td>A</td>\n",
       "    </tr>\n",
       "  </tbody>\n",
       "</table>\n",
       "</div>"
      ],
      "text/plain": [
       "  name  marks grade\n",
       "0  abc     98   NaN\n",
       "1  bcd     95   NaN\n",
       "2  cde     96     A"
      ]
     },
     "execution_count": 71,
     "metadata": {},
     "output_type": "execute_result"
    }
   ],
   "source": [
    "l=[{'name':'abc','marks':98},{'name':'bcd','marks':95},{'name':'cde','marks':96,'grade':'A'}]\n",
    "df=pd.DataFrame(l)\n",
    "df"
   ]
  },
  {
   "cell_type": "markdown",
   "id": "18e34ea5",
   "metadata": {},
   "source": [
    "# Construction from CSV Files"
   ]
  },
  {
   "cell_type": "code",
   "execution_count": null,
   "id": "e3753fd3",
   "metadata": {},
   "outputs": [],
   "source": [
    "df=pd.read_csv('Salary.csv')"
   ]
  }
 ],
 "metadata": {
  "kernelspec": {
   "display_name": "Python 3",
   "language": "python",
   "name": "python3"
  },
  "language_info": {
   "codemirror_mode": {
    "name": "ipython",
    "version": 3
   },
   "file_extension": ".py",
   "mimetype": "text/x-python",
   "name": "python",
   "nbconvert_exporter": "python",
   "pygments_lexer": "ipython3",
   "version": "3.8.8"
  }
 },
 "nbformat": 4,
 "nbformat_minor": 5
}
